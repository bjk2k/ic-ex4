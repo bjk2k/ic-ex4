{
 "cells": [
  {
   "cell_type": "markdown",
   "metadata": {},
   "source": [
    "# Report for Homework Excercise 1 - Ben-Jasper Kettlitz [E11215002]\n",
    "\n",
    "First we introduce the torch package into our scope. We also set the random seed to a fixed value to ensure reproducibility."
   ]
  },
  {
   "cell_type": "code",
   "execution_count": 56,
   "metadata": {},
   "outputs": [],
   "source": [
    "import pandas as pd\n",
    "import numpy as np\n",
    "\n",
    "RANDOM_SEED = 1234\n",
    "np.random.seed(RANDOM_SEED)\n",
    "\n",
    "import matplotlib.pyplot as plt \n"
   ]
  },
  {
   "cell_type": "code",
   "execution_count": 53,
   "metadata": {},
   "outputs": [],
   "source": [
    "class SinglePerceptron():\n",
    "\n",
    "\n",
    "    def __init__(self):\n",
    "        self.activation_function = lambda x: 1 if x >= 0 else -1\n",
    "        self.bias = -1\n",
    "        self.weights = np.array([-1.0, 1.0])\n",
    "        self.learning_rate = 0.5\n",
    "        self.epochs = 1\n",
    "\n",
    "    def predict(self, x):\n",
    "        return self.activation_function(np.dot(x, self.weights) - self.bias)\n",
    "\n",
    "    def train(self, x_train: np.array, y_train):\n",
    "\n",
    "        for i in range(self.epochs):\n",
    "            for x,label in zip(x_train, y_train):\n",
    "                print(f\"Epoch: {i}, x: {x}, y: {label}\")\n",
    "                prediction = self.predict(x)\n",
    "                if prediction != label:\n",
    "                    weights_update = self.learning_rate * (label - prediction) * x\n",
    "                    self.weights += weights_update\n",
    "                    \n",
    "                    self.bias += self.learning_rate * (label - prediction) * self.bias\n",
    "                else:\n",
    "                    pass\n",
    "                \n",
    "                \n",
    "    def __str__(self) -> str:\n",
    "        return f\"Perceptron with parameters weights: {self.weights}, bias: {self.bias}\"\n",
    "        \n",
    "        \n",
    "class SinglePerceptron2():\n",
    "\n",
    "\n",
    "    def __init__(self):\n",
    "        self.activation_function = lambda x: 1 if x >= 0 else -1\n",
    "        self.bias = -1\n",
    "        self.weights = np.array([-1.0, 1.0])\n",
    "        self.learning_rate = 0.5\n",
    "        self.epochs = 1\n",
    "\n",
    "    def predict(self, x):\n",
    "        return self.activation_function(np.dot(x, self.weights) - self.bias)\n",
    "\n",
    "    def train(self, x_train: np.array, y_train):\n",
    "\n",
    "        for i in range(self.epochs):\n",
    "            for x,label in zip(x_train, y_train):\n",
    "                print(f\"Epoch: {i}, x: {x}, y: {label}\")\n",
    "                prediction = self.predict(x)\n",
    "                if prediction > 0:\n",
    "                    weights_update = self.learning_rate * (label - prediction) * x\n",
    "                    bias_update = self.learning_rate * (label - prediction) * self.bias\n",
    "                if prediction < 0:\n",
    "                    weights_update = self.learning_rate * (label - prediction) * x\n",
    "                    bias_update = self.learning_rate * (label - prediction) * self.bias\n",
    "                else:\n",
    "                    pass\n",
    "                \n",
    "                \n",
    "    def __str__(self) -> str:\n",
    "        return f\"Perceptron with parameters weights: {self.weights}, bias: {self.bias}\"\n",
    "        "
   ]
  },
  {
   "cell_type": "code",
   "execution_count": 59,
   "metadata": {},
   "outputs": [
    {
     "name": "stdout",
     "output_type": "stream",
     "text": [
      "Epoch: 0, x: [2 0], y: [-1]\n",
      "Epoch: 0, x: [2 2], y: [-1]\n",
      "Epoch: 0, x: [1 3], y: [-1]\n",
      "Epoch: 0, x: [-1  0], y: [1]\n",
      "Epoch: 0, x: [-2  0], y: [1]\n",
      "Epoch: 0, x: [-1  2], y: [1]\n"
     ]
    },
    {
     "data": {
      "image/png": "[encoded data removed]",
      "text/plain": [
       "<Figure size 640x480 with 1 Axes>"
      ]
     },
     "metadata": {},
     "output_type": "display_data"
    }
   ],
   "source": [
    "perceptron = SinglePerceptron()\n",
    "x_train = np.array([[2,0],[2,2],[1,3],[-1,0], [-2,0], [-1,2]])\n",
    "y_train = np.array([[-1],[-1],[-1],[1],[1],[1]])\n",
    "\n",
    "\n",
    "perceptron.train(x_train, y_train)\n",
    "\n",
    "str(perceptron)\n",
    "\n",
    "# plot the data\n",
    "\n",
    "plt.scatter(x_train[:,0], x_train[:,1], c=y_train)\n",
    "# decision boundary\n",
    "x = np.linspace(-2,2,100)\n",
    "y = -perceptron.weights[0]/perceptron.weights[1] * x + perceptron.bias/perceptron.weights[1] \n",
    "plt.plot(x,y)\n",
    "plt.show()"
   ]
  },
  {
   "cell_type": "code",
   "execution_count": null,
   "metadata": {},
   "outputs": [],
   "source": []
  }
 ],
 "metadata": {
  "kernelspec": {
   "display_name": "intelligent-surveillance-h001-uJQOEtR9-py3.11",
   "language": "python",
   "name": "python3"
  },
  "language_info": {
   "codemirror_mode": {
    "name": "ipython",
    "version": 3
   },
   "file_extension": ".py",
   "mimetype": "text/x-python",
   "name": "python",
   "nbconvert_exporter": "python",
   "pygments_lexer": "ipython3",
   "version": "3.11.0"
  },
  "orig_nbformat": 4
 },
 "nbformat": 4,
 "nbformat_minor": 2
}
